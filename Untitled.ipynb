{
 "cells": [
  {
   "cell_type": "code",
   "execution_count": 9,
   "metadata": {
    "collapsed": false
   },
   "outputs": [],
   "source": [
    "import numpy as np\n",
    "import pandas as pd\n",
    "import time\n",
    "\n",
    "start = time.time()\n",
    "\n",
    "np.random.seed(0)\n",
    "\n",
    "# レコード数\n",
    "N = 10000\n",
    "\n",
    "chars1 = pd.util.testing.rands_array(5, 100)\n",
    "chars2 = pd.util.testing.rands_array(5, 10000)\n",
    "chars3 = pd.util.testing.rands_array(10, N)\n",
    "dff = pd.DataFrame({'x': np.random.randn(N),\n",
    "                   'y': pd.util.testing.choice(chars1, size=N),\n",
    "                   'z': pd.util.testing.choice(chars2, size=N)})\n",
    "dff['kbn1'] = 111\n",
    "dff2 = dff.copy()\n",
    "dff3 = dff.copy()\n",
    "dff2['kbn1'] = 222\n",
    "dff3['kbn1'] = 333\n",
    "dff3 = pd.concat([dff,dff2,dff3],ignore_index=True)\n",
    "dff3.to_csv(\"testv2.csv\",index=False)\n",
    "#dff2.append(dff)\n",
    "\n"
   ]
  },
  {
   "cell_type": "code",
   "execution_count": null,
   "metadata": {
    "collapsed": true
   },
   "outputs": [],
   "source": []
  }
 ],
 "metadata": {
  "kernelspec": {
   "display_name": "Python 2",
   "language": "python",
   "name": "python2"
  },
  "language_info": {
   "codemirror_mode": {
    "name": "ipython",
    "version": 2
   },
   "file_extension": ".py",
   "mimetype": "text/x-python",
   "name": "python",
   "nbconvert_exporter": "python",
   "pygments_lexer": "ipython2",
   "version": "2.7.10"
  }
 },
 "nbformat": 4,
 "nbformat_minor": 0
}
